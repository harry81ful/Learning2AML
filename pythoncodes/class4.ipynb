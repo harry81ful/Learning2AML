{
 "cells": [
  {
   "cell_type": "markdown",
   "id": "1da1b128-056c-4466-8998-b2523e80d680",
   "metadata": {},
   "source": [
    "### DATA TYPEs"
   ]
  },
  {
   "cell_type": "code",
   "execution_count": 3,
   "id": "ea150a3f-5012-47ff-a338-08754ec050f4",
   "metadata": {},
   "outputs": [
    {
     "name": "stdout",
     "output_type": "stream",
     "text": [
      "<class 'int'>\n",
      "<class 'float'>\n",
      "<class 'str'>\n"
     ]
    }
   ],
   "source": [
    "\n",
    "\n",
    "# check data type\n",
    "\n",
    "a= 978\n",
    "b=11.99\n",
    "c='hello world'\n",
    "print (type(a))\n",
    "print (type(b))\n",
    "print (type(c))\n"
   ]
  },
  {
   "cell_type": "code",
   "execution_count": 12,
   "id": "50ccc581-1606-43be-96cf-5eaaae1b4b0d",
   "metadata": {},
   "outputs": [
    {
     "name": "stdout",
     "output_type": "stream",
     "text": [
      "5.0\n",
      "6\n",
      "100\n"
     ]
    }
   ],
   "source": [
    "### airthmatic operation\n",
    "'''\n",
    "add = '+'\n",
    "subtract = '-'\n",
    "float division = '/' eg: if 10/2 is executed the anwer will have a decimal point 5.0\n",
    "floor divison = '//' the numbers will be rounded off even if it has decimal points to the cosest number\n",
    "modulo = '%' gives the remainder\n",
    "exponents = 3**2 which will square the number here another method is pow(3,2)  3 is the number and 2 is the exponent\n",
    "''' \n",
    "floatdiveg= 10/2\n",
    "print (floatdiveg)\n",
    "\n",
    "floordiveg= 13//2\n",
    "print (floordiveg)\n",
    "\n",
    "#exponent eg:\n",
    "print(pow(10,2))"
   ]
  },
  {
   "cell_type": "code",
   "execution_count": 13,
   "id": "02c99aec-ed9c-41f8-b0d3-cb9bdb506598",
   "metadata": {},
   "outputs": [],
   "source": [
    "### cmparison  will always return boolean\n",
    "# >, <, <=, >=\n",
    "# - can perform between int and float\n",
    "# - can perform between str and str\n",
    "# - cannot perform on complex operators\n",
    "# - cannot perform for None type\n"
   ]
  },
  {
   "cell_type": "code",
   "execution_count": null,
   "id": "79be5b2d-4092-4f3d-9903-04a028c85d9e",
   "metadata": {},
   "outputs": [],
   "source": [
    "### Equality operators\n",
    "# returns boolean result\n",
    "# ==. !=\n"
   ]
  },
  {
   "cell_type": "code",
   "execution_count": 18,
   "id": "cbe1371f-c5c2-4bdc-b8ba-885406560f64",
   "metadata": {},
   "outputs": [
    {
     "name": "stdout",
     "output_type": "stream",
     "text": [
      "95\n",
      "98\n",
      "49\n"
     ]
    }
   ],
   "source": [
    "# ordianl funct will give the ascii value of a single character\n",
    "a= ord('_')\n",
    "b= ord('b')\n",
    "c= ord('1')\n",
    "print(a)\n",
    "print(b)\n",
    "print(c)"
   ]
  },
  {
   "cell_type": "code",
   "execution_count": 22,
   "id": "71e959da-f821-4bfe-89eb-42e88a2dd0b3",
   "metadata": {},
   "outputs": [
    {
     "name": "stdout",
     "output_type": "stream",
     "text": [
      "65\n",
      "A\n",
      "True\n"
     ]
    }
   ],
   "source": [
    "# Character value will take the a int value and give the charater\n",
    "#chr(65) is eqal to 'A'\n",
    "a= ord ('A')\n",
    "b= chr(65)\n",
    "print(a)\n",
    "print(b)\n",
    "print ('A' == chr(65))\n"
   ]
  },
  {
   "cell_type": "code",
   "execution_count": null,
   "id": "624911be-d521-4d1f-8714-95b6da092775",
   "metadata": {},
   "outputs": [],
   "source": [
    "### Logical operators and, or and not\n",
    "# returns boolean result"
   ]
  },
  {
   "cell_type": "code",
   "execution_count": 29,
   "id": "02f3eabb-07e3-4046-9707-dd878c8dcdb6",
   "metadata": {},
   "outputs": [
    {
     "name": "stdout",
     "output_type": "stream",
     "text": [
      "0b111\n",
      "2\n"
     ]
    }
   ],
   "source": [
    "## Bit wise operator -> &, |, ^, ~, << , >>\n",
    "\n",
    "# always works on bit [binary form]\n",
    "# works only on integer\n",
    "# we need convert any value to variable before using the operators\n",
    "# int value converted with bin() funct\n",
    "y= 10\n",
    "x = 7\n",
    "print(bin(x))\n",
    "\n",
    "print (x & y)"
   ]
  },
  {
   "cell_type": "code",
   "execution_count": 40,
   "id": "1f82d612-473e-4be1-81be-9465d5981bf4",
   "metadata": {},
   "outputs": [
    {
     "name": "stdout",
     "output_type": "stream",
     "text": [
      "3\n"
     ]
    }
   ],
   "source": [
    "# assignment operators -> +=, -=, /+, %=, //=, |=, ^=, >>=. <<=\n",
    "v =1\n",
    "v+=2\n",
    "print(v)"
   ]
  },
  {
   "cell_type": "code",
   "execution_count": 42,
   "id": "fe0c0cfe-9994-46cb-a2fb-3d726746e6a6",
   "metadata": {},
   "outputs": [
    {
     "name": "stdout",
     "output_type": "stream",
     "text": [
      "True\n",
      "False\n"
     ]
    }
   ],
   "source": [
    "# identity operators is and is not\n",
    "# these will tell if the value share same memory location\n",
    "\n",
    "a= 10\n",
    "b=10\n",
    "print (a is b)\n",
    "print (a is not b)"
   ]
  },
  {
   "cell_type": "code",
   "execution_count": 45,
   "id": "69c9775b-85fe-4ebf-9cc8-8ab19984679c",
   "metadata": {},
   "outputs": [
    {
     "name": "stdout",
     "output_type": "stream",
     "text": [
      "1585999924400\n",
      "1585999928304\n",
      "True\n"
     ]
    }
   ],
   "source": [
    "a = 1000\n",
    "b = 1000\n",
    "print (id(a))\n",
    "print (id(b))\n",
    "print (a is not b)\n",
    "# this because of the object re"
   ]
  },
  {
   "cell_type": "code",
   "execution_count": null,
   "id": "963073b6-1917-4d14-8eef-864da537e7eb",
   "metadata": {},
   "outputs": [],
   "source": [
    "# opbect reusability\n",
    "# int = -5 to 256\n",
    "# non\n",
    "# str A-Z, a-z, 0-9\n",
    "# cannot be  applied for complex and floating numbers"
   ]
  },
  {
   "cell_type": "code",
   "execution_count": 49,
   "id": "30b594ff-3bd9-48e5-816f-c6ec683fb7a6",
   "metadata": {},
   "outputs": [
    {
     "name": "stdout",
     "output_type": "stream",
     "text": [
      "60\n"
     ]
    }
   ],
   "source": [
    "# ternary operators if else conditions\n",
    "print (10 if 100<20 else 20 if 5>20 else 60)"
   ]
  },
  {
   "cell_type": "code",
   "execution_count": null,
   "id": "9e7405fe-bf18-4382-8f55-6299188747f1",
   "metadata": {},
   "outputs": [],
   "source": []
  },
  {
   "cell_type": "code",
   "execution_count": null,
   "id": "7d854a2b-1b7a-413d-9d50-fd5847037981",
   "metadata": {},
   "outputs": [],
   "source": []
  },
  {
   "cell_type": "code",
   "execution_count": null,
   "id": "5c390948-2df4-4ead-ad9d-22048cb40acf",
   "metadata": {},
   "outputs": [],
   "source": []
  },
  {
   "cell_type": "code",
   "execution_count": null,
   "id": "57ef4c0a-e392-406f-b8ff-1bca0d7420f4",
   "metadata": {},
   "outputs": [],
   "source": []
  },
  {
   "cell_type": "code",
   "execution_count": null,
   "id": "84f723d2-17a0-442c-bcad-91b6bc6976e0",
   "metadata": {},
   "outputs": [],
   "source": []
  },
  {
   "cell_type": "code",
   "execution_count": null,
   "id": "a1027f47-0043-4849-b101-becf56920a95",
   "metadata": {},
   "outputs": [],
   "source": []
  },
  {
   "cell_type": "code",
   "execution_count": null,
   "id": "5b5edec5-988e-4f85-b0d5-402611bac258",
   "metadata": {},
   "outputs": [],
   "source": []
  },
  {
   "cell_type": "code",
   "execution_count": null,
   "id": "2e351b4a-ad94-4fce-a6a4-20f4f80472a4",
   "metadata": {},
   "outputs": [],
   "source": []
  },
  {
   "cell_type": "code",
   "execution_count": null,
   "id": "9257e52c-8e82-4e98-a39b-0ee33a634112",
   "metadata": {},
   "outputs": [],
   "source": []
  },
  {
   "cell_type": "code",
   "execution_count": null,
   "id": "d701170d-62fa-4656-98e5-4649f93b3b59",
   "metadata": {},
   "outputs": [],
   "source": []
  },
  {
   "cell_type": "code",
   "execution_count": null,
   "id": "dd09d0be-cfc7-4fb9-a913-829d3a72b3f1",
   "metadata": {},
   "outputs": [],
   "source": []
  }
 ],
 "metadata": {
  "kernelspec": {
   "display_name": "Python 3 (ipykernel)",
   "language": "python",
   "name": "python3"
  },
  "language_info": {
   "codemirror_mode": {
    "name": "ipython",
    "version": 3
   },
   "file_extension": ".py",
   "mimetype": "text/x-python",
   "name": "python",
   "nbconvert_exporter": "python",
   "pygments_lexer": "ipython3",
   "version": "3.11.7"
  }
 },
 "nbformat": 4,
 "nbformat_minor": 5
}
