{
 "cells": [
  {
   "cell_type": "code",
   "execution_count": 5,
   "id": "a6902c0d-b6ed-4f8b-b757-860c3c2bd09e",
   "metadata": {},
   "outputs": [
    {
     "name": "stdout",
     "output_type": "stream",
     "text": [
      "Hello World!\n"
     ]
    }
   ],
   "source": [
    "print ('Hello World!')\n"
   ]
  },
  {
   "cell_type": "code",
   "execution_count": 6,
   "id": "cf98ab67-241a-43e0-a7f8-5640445cd938",
   "metadata": {},
   "outputs": [
    {
     "name": "stdout",
     "output_type": "stream",
     "text": [
      "Hello World\n"
     ]
    }
   ],
   "source": [
    "print (\"Hello World\")"
   ]
  },
  {
   "cell_type": "code",
   "execution_count": 9,
   "id": "45a4cd10-2c6f-4985-8bc9-f8cdbc375e24",
   "metadata": {},
   "outputs": [
    {
     "name": "stdout",
     "output_type": "stream",
     "text": [
      "['False', 'None', 'True', 'and', 'as', 'assert', 'async', 'await', 'break', 'class', 'continue', 'def', 'del', 'elif', 'else', 'except', 'finally', 'for', 'from', 'global', 'if', 'import', 'in', 'is', 'lambda', 'nonlocal', 'not', 'or', 'pass', 'raise', 'return', 'try', 'while', 'with', 'yield']\n"
     ]
    }
   ],
   "source": [
    "import keyword\n",
    "print (keyword.kwlist)"
   ]
  },
  {
   "cell_type": "code",
   "execution_count": null,
   "id": "92e33864-901f-45ae-825d-e427de912eb1",
   "metadata": {},
   "outputs": [],
   "source": [
    "# mukltiple test commenting test\n",
    "# this is a waste of time\n",
    "# but it is also a learning"
   ]
  },
  {
   "cell_type": "code",
   "execution_count": null,
   "id": "b00e81ae-ee32-4478-8423-f55775c65a61",
   "metadata": {},
   "outputs": [],
   "source": [
    "Multiline comment\n",
    "'''\n",
    "anything between this quotes will be considered a comment\n",
    "\n",
    "'''"
   ]
  },
  {
   "cell_type": "markdown",
   "id": "240f7a59-5b00-41d4-bb48-2475b674d10f",
   "metadata": {},
   "source": [
    "### comment\n",
    "\n",
    "this a comment\n",
    "\n",
    "change to markdown at the top next to forward button to make it a comments section only\n"
   ]
  },
  {
   "cell_type": "code",
   "execution_count": null,
   "id": "731bc1d6-5b6c-427e-98f1-1faa2179d1bd",
   "metadata": {},
   "outputs": [],
   "source": []
  }
 ],
 "metadata": {
  "kernelspec": {
   "display_name": "Python 3 (ipykernel)",
   "language": "python",
   "name": "python3"
  },
  "language_info": {
   "codemirror_mode": {
    "name": "ipython",
    "version": 3
   },
   "file_extension": ".py",
   "mimetype": "text/x-python",
   "name": "python",
   "nbconvert_exporter": "python",
   "pygments_lexer": "ipython3",
   "version": "3.11.7"
  }
 },
 "nbformat": 4,
 "nbformat_minor": 5
}
