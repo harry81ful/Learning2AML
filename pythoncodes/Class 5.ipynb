{
 "cells": [
  {
   "cell_type": "markdown",
   "id": "6abcc83e-d94a-438c-a984-0663c1627382",
   "metadata": {},
   "source": [
    "### Type Casting\n",
    "\n",
    "int to float\n",
    "float to int\n",
    "str to float\n",
    "string to int\n",
    "\n",
    "\n",
    "---> Cannot convert a 'string' into a float or int type. there should be a an actual integer and floating value to convert to int or float type \n",
    "eg; a= '11.4' can be converted only into float\n",
    "    b= '19' can be converted only into int type\n"
   ]
  },
  {
   "cell_type": "code",
   "execution_count": 19,
   "id": "d8945f6f-5763-480d-8a7c-e4ee0ab25f03",
   "metadata": {},
   "outputs": [
    {
     "name": "stdout",
     "output_type": "stream",
     "text": [
      "<class 'int'>\n",
      "10.0\n",
      "<class 'float'>\n",
      "11\n",
      "<class 'str'>\n",
      "<class 'str'>\n",
      "<class 'str'>\n",
      "11.4\n",
      "True <class 'bool'>\n"
     ]
    }
   ],
   "source": [
    "a= 10\n",
    "print (type(a))\n",
    "print (float(a))\n",
    "b= 11.36\n",
    "print (type(b))\n",
    "print(int(b))\n",
    "print(type(str(b)))\n",
    "\n",
    "c ='abc'\n",
    "print(type(c))\n",
    "d='11.4'\n",
    "print (type(d))\n",
    "print(float(d))\n",
    "\n",
    "x= True\n",
    "print( str(x), type(x))\n"
   ]
  },
  {
   "cell_type": "markdown",
   "id": "aa365f87-1880-4bdf-9899-fe7787468ec8",
   "metadata": {},
   "source": [
    "### input and output fnction\n",
    "\n",
    "input = used to take values dynamically\n",
    "the output will always be a str type"
   ]
  },
  {
   "cell_type": "code",
   "execution_count": 31,
   "id": "6b52aef8-2b10-4c30-9513-d336c952a4a0",
   "metadata": {},
   "outputs": [
    {
     "name": "stdin",
     "output_type": "stream",
     "text": [
      "Enter your name:  harry\n"
     ]
    },
    {
     "name": "stdout",
     "output_type": "stream",
     "text": [
      "<class 'str'>\n"
     ]
    },
    {
     "name": "stdin",
     "output_type": "stream",
     "text": [
      "Enter your age:  33\n"
     ]
    },
    {
     "name": "stdout",
     "output_type": "stream",
     "text": [
      "<class 'int'>\n"
     ]
    }
   ],
   "source": [
    "name = input('Enter your name: ')\n",
    "print(type(name))\n",
    "age = int(input('Enter your age: '))\n",
    "print(type(age))\n"
   ]
  },
  {
   "cell_type": "code",
   "execution_count": 30,
   "id": "cebcfa7a-e3ff-4f3d-9ebb-0ed1538e1434",
   "metadata": {},
   "outputs": [
    {
     "name": "stdin",
     "output_type": "stream",
     "text": [
      "type something:  410.3\n"
     ]
    },
    {
     "name": "stdout",
     "output_type": "stream",
     "text": [
      "<class 'float'>\n"
     ]
    }
   ],
   "source": [
    "# eval funct will automatically converts to its type\n",
    "x= eval(input('type something: '))\n",
    "print(type(x))"
   ]
  },
  {
   "cell_type": "markdown",
   "id": "e1b36bfe-09ba-42b6-863a-abb2ff55dee2",
   "metadata": {},
   "source": [
    "\\n -- new line\n",
    "\\t -- tab\n",
    "shift + tab after the comma in a print statment will give docstring descriptions (jupyter specific only)\n"
   ]
  },
  {
   "cell_type": "code",
   "execution_count": 38,
   "id": "bc1b65b0-a996-4967-ac3e-29e3efcb7ee6",
   "metadata": {},
   "outputs": [
    {
     "name": "stdout",
     "output_type": "stream",
     "text": [
      "10)string\n",
      "10string\n"
     ]
    }
   ],
   "source": [
    "a = 10\n",
    "b='string'\n",
    "\n",
    "print (a, end = ')')\n",
    "print(b)\n",
    "print (a, b, sep ='')\n"
   ]
  },
  {
   "cell_type": "code",
   "execution_count": 44,
   "id": "a64b86d9-4e85-4475-97df-b0849ff99739",
   "metadata": {},
   "outputs": [
    {
     "name": "stdout",
     "output_type": "stream",
     "text": [
      "My CIBIL socre is 889 and name is harish\n",
      "My CIBIL socre is 889 and name is harish\n"
     ]
    }
   ],
   "source": [
    "# string format dynamically adding the values in print\n",
    "\n",
    "a= 889\n",
    "b='harish'\n",
    "\n",
    "print(f'My CIBIL socre is {a} and name is {b}')\n",
    "#method 2\n",
    "print('My CIBIL socre is {} and name is {}'.format(a, b))"
   ]
  },
  {
   "cell_type": "markdown",
   "id": "50ff691a-ca34-45c3-bed1-24bb36beaa14",
   "metadata": {},
   "source": [
    "### Operation possible with float data type\n",
    "-arithmatic \n",
    "-comparison\n",
    "-equality\n",
    "-identity\n",
    "-assignment\n",
    "\n",
    "### operation not possible float type\n",
    "bitwise op\n",
    " "
   ]
  },
  {
   "cell_type": "markdown",
   "id": "ad42707d-16ce-4407-bd62-0881f772fb28",
   "metadata": {},
   "source": [
    "### Complex data type\n",
    "anything that can be represented in the form of a+bj a= real bj = imaginary"
   ]
  },
  {
   "cell_type": "markdown",
   "id": "f5aea6b7-c864-46b6-9503-3f57a65e3bec",
   "metadata": {},
   "source": [
    "### none data type\n",
    "\n",
    "to represent null values\n",
    "eg: in a table some of the values is not present then none will be used "
   ]
  },
  {
   "cell_type": "markdown",
   "id": "1091a085-96aa-4aa9-88fb-b2e0c21a74a1",
   "metadata": {},
   "source": [
    "### Boolean data type\n"
   ]
  },
  {
   "cell_type": "markdown",
   "id": "bf8c3ded-cde8-4a30-8d37-b7973bea8ffe",
   "metadata": {},
   "source": [
    "True = 1\n",
    "Flase = 0\n",
    "None = 0"
   ]
  },
  {
   "cell_type": "code",
   "execution_count": 51,
   "id": "f9405f21-a3cb-411d-afac-bba72cbf7f43",
   "metadata": {},
   "outputs": [
    {
     "name": "stdout",
     "output_type": "stream",
     "text": [
      "2\n",
      "1\n",
      "0\n"
     ]
    }
   ],
   "source": [
    "print ( True+ True)\n",
    "print (True + False)\n",
    "print (True*False)"
   ]
  },
  {
   "cell_type": "markdown",
   "id": "d55c9b5c-d29e-4f6b-b8d3-ed926b02cbac",
   "metadata": {},
   "source": [
    "### String data type"
   ]
  },
  {
   "cell_type": "markdown",
   "id": "90059aed-67f5-402e-8ce5-0899e343ac76",
   "metadata": {},
   "source": [
    "anything with in 'something', \"something\", '''something''', \"\"\"\"something\"\"\"-\n"
   ]
  },
  {
   "cell_type": "markdown",
   "id": "da76fe60-b73a-45d5-b406-eb4dc7191fac",
   "metadata": {},
   "source": [
    "to accomodate an apostrophe \"python's\" is used"
   ]
  },
  {
   "cell_type": "markdown",
   "id": "a42b9dfb-deb9-4aca-965b-8c2fd35aa4d2",
   "metadata": {},
   "source": [
    "if there is quotation mark then this is used ''' something in 'quotation' representation'''"
   ]
  },
  {
   "cell_type": "markdown",
   "id": "21bb7c09-22e9-48b5-9deb-8135b804936c",
   "metadata": {},
   "source": [
    "for multiple line statement then \"\"\"\"\"\"\" is used"
   ]
  },
  {
   "cell_type": "markdown",
   "id": "915ab1c5-bb4f-418b-b325-f73317ad4cbc",
   "metadata": {},
   "source": [
    "### String Properties"
   ]
  },
  {
   "cell_type": "markdown",
   "id": "9572bce3-5270-4356-b714-564e6d83f745",
   "metadata": {},
   "source": [
    "- String is sequence\n",
    "- it allows +ve and -ve indexing: \n",
    "-      first character is always '0' and is called +ve indexing\n",
    "-      it can be be -ve starting with the last character of a string being -1"
   ]
  },
  {
   "cell_type": "code",
   "execution_count": null,
   "id": "b2fd9cd9-b61a-4923-bfc5-187861b89066",
   "metadata": {},
   "outputs": [],
   "source": []
  },
  {
   "cell_type": "code",
   "execution_count": null,
   "id": "7e41811f-4dd2-45a1-8ce9-65d22be86a04",
   "metadata": {},
   "outputs": [],
   "source": []
  },
  {
   "cell_type": "code",
   "execution_count": null,
   "id": "a8a20c69-6fb7-4f6c-87bb-24e938a2bca7",
   "metadata": {},
   "outputs": [],
   "source": []
  }
 ],
 "metadata": {
  "kernelspec": {
   "display_name": "Python 3 (ipykernel)",
   "language": "python",
   "name": "python3"
  },
  "language_info": {
   "codemirror_mode": {
    "name": "ipython",
    "version": 3
   },
   "file_extension": ".py",
   "mimetype": "text/x-python",
   "name": "python",
   "nbconvert_exporter": "python",
   "pygments_lexer": "ipython3",
   "version": "3.11.7"
  }
 },
 "nbformat": 4,
 "nbformat_minor": 5
}
